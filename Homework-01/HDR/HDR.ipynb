{
 "cells": [
  {
   "cell_type": "code",
   "execution_count": 1,
   "metadata": {},
   "outputs": [],
   "source": [
    "from PIL import Image\n",
    "from pylab import *\n",
    "import numpy as np\n",
    "import cv2\n",
    "import matplotlib.pyplot as plt"
   ]
  },
  {
   "cell_type": "code",
   "execution_count": 2,
   "metadata": {},
   "outputs": [],
   "source": [
    "def readImagesAndTimes():\n",
    "  # List of exposure times\n",
    "    #times = np.array([ 1/675, 1/2641, 1/100 ], dtype=np.float32) #IMG_01 - IMG_03\n",
    "    #times = np.array([ 1/60, 1/24, 0.1, 0.05 ], dtype=np.float32) #IMG_04 - IMG_07\n",
    "    times = np.array([ 1/1491, 1/2802, 1/5438, 1/2889, 1/1445, 1/1849, 1/2101 ], dtype=np.float32) #IMG_08 - IMG_14\n",
    "   \n",
    "  # List of image filenames\n",
    "    #filenames = [\"images/IMG_01.jpg\", \"images/IMG_02.jpg\", \"images/IMG_03.jpg\"]\n",
    "    #filenames = [\"images/IMG_04.jpg\", \"images/IMG_05.jpg\", \"images/IMG_06.jpg\", \"images/IMG_07.jpg\"]\n",
    "    filenames = [\"images/IMG_08.jpg\", \"images/IMG_09.jpg\", \"images/IMG_10.jpg\", \"images/IMG_11.jpg\", \"images/IMG_12.jpg\", \"images/IMG_13.jpg\", \"images/IMG_14.jpg\"]\n",
    "    images = []\n",
    "    for filename in filenames:\n",
    "        im = cv2.imread(filename)\n",
    "        images.append(im)\n",
    "   \n",
    "    return images, times"
   ]
  },
  {
   "cell_type": "code",
   "execution_count": 3,
   "metadata": {},
   "outputs": [],
   "source": [
    "images,times = readImagesAndTimes()"
   ]
  },
  {
   "cell_type": "code",
   "execution_count": 4,
   "metadata": {},
   "outputs": [],
   "source": [
    "# Align input images\n",
    "alignMTB = cv2.createAlignMTB()\n",
    "alignMTB.process(images, images)"
   ]
  },
  {
   "cell_type": "code",
   "execution_count": 5,
   "metadata": {},
   "outputs": [],
   "source": [
    "# Obtain Camera Response Function (CRF)\n",
    "calibrateDebevec = cv2.createCalibrateDebevec()\n",
    "responseDebevec = calibrateDebevec.process(images, times)"
   ]
  },
  {
   "cell_type": "code",
   "execution_count": 6,
   "metadata": {},
   "outputs": [
    {
     "data": {
      "text/plain": [
       "True"
      ]
     },
     "execution_count": 6,
     "metadata": {},
     "output_type": "execute_result"
    }
   ],
   "source": [
    "# Merge images into an HDR linear image\n",
    "mergeDebevec = cv2.createMergeDebevec()\n",
    "hdrDebevec = mergeDebevec.process(images, times, responseDebevec)\n",
    "# Save HDR image.\n",
    "cv2.imwrite(\"hdrDebevec.hdr\", hdrDebevec)"
   ]
  },
  {
   "cell_type": "code",
   "execution_count": 10,
   "metadata": {},
   "outputs": [
    {
     "name": "stderr",
     "output_type": "stream",
     "text": [
      "Clipping input data to the valid range for imshow with RGB data ([0..1] for floats or [0..255] for integers).\n"
     ]
    },
    {
     "data": {
      "text/plain": [
       "<matplotlib.image.AxesImage at 0x20108b057f0>"
      ]
     },
     "execution_count": 10,
     "metadata": {},
     "output_type": "execute_result"
    },
    {
     "data": {
      "image/png": "[encoded data removed]",
      "text/plain": [
       "<Figure size 432x288 with 1 Axes>"
      ]
     },
     "metadata": {
      "needs_background": "light"
     },
     "output_type": "display_data"
    }
   ],
   "source": [
    "# Tonemap using Drago's method to obtain 24-bit color image\n",
    "tonemapDrago = cv2.createTonemapDrago(1.0, 0.7)\n",
    "ldrDrago = tonemapDrago.process(hdrDebevec)\n",
    "ldrDrago = 3 * ldrDrago\n",
    "#cv2.imwrite(\"ldr-Drago.jpg\", ldrDrago * 255)\n",
    "plt.imshow(ldrDrago*255)"
   ]
  },
  {
   "cell_type": "code",
   "execution_count": 8,
   "metadata": {},
   "outputs": [
    {
     "data": {
      "text/plain": [
       "True"
      ]
     },
     "execution_count": 8,
     "metadata": {},
     "output_type": "execute_result"
    }
   ],
   "source": [
    "# Tonemap using Durand's method obtain 24-bit color image\n",
    "tonemapDurand = cv2.createTonemapDurand(1.5,4,1.0,1,1)\n",
    "ldrDurand = tonemapDurand.process(hdrDebevec)\n",
    "ldrDurand = 3 * ldrDurand\n",
    "cv2.imwrite(\"ldr-Durand.jpg\", ldrDurand * 255)"
   ]
  },
  {
   "cell_type": "code",
   "execution_count": 9,
   "metadata": {},
   "outputs": [
    {
     "data": {
      "text/plain": [
       "True"
      ]
     },
     "execution_count": 9,
     "metadata": {},
     "output_type": "execute_result"
    }
   ],
   "source": [
    "# Tonemap using Reinhard's method to obtain 24-bit color image\n",
    "tonemapReinhard = cv2.createTonemapReinhard(1.5, 0,0,0)\n",
    "ldrReinhard = tonemapReinhard.process(hdrDebevec)\n",
    "cv2.imwrite(\"ldr-Reinhard.jpg\", ldrReinhard * 255)"
   ]
  },
  {
   "cell_type": "code",
   "execution_count": 14,
   "metadata": {},
   "outputs": [
    {
     "data": {
      "text/plain": [
       "True"
      ]
     },
     "execution_count": 14,
     "metadata": {},
     "output_type": "execute_result"
    }
   ],
   "source": [
    "# Tonemap using Mantiuk's method to obtain 24-bit color image\n",
    "tonemapMantiuk = cv2.createTonemapMantiuk(1.8,0.9, 1.0)\n",
    "ldrMantiuk = tonemapMantiuk.process(hdrDebevec)\n",
    "ldrMantiuk = 3 * ldrMantiuk\n",
    "cv2.imwrite(\"ldr-Mantiuk.jpg\", ldrMantiuk * 255)"
   ]
  }
 ],
 "metadata": {
  "kernelspec": {
   "display_name": "Python 3",
   "language": "python",
   "name": "python3"
  },
  "language_info": {
   "codemirror_mode": {
    "name": "ipython",
    "version": 3
   },
   "file_extension": ".py",
   "mimetype": "text/x-python",
   "name": "python",
   "nbconvert_exporter": "python",
   "pygments_lexer": "ipython3",
   "version": "3.7.0"
  }
 },
 "nbformat": 4,
 "nbformat_minor": 2
}
