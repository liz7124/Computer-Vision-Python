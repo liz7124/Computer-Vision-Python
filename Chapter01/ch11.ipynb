from PIL import Image
import numpy as np
import matplotlib.pyplot as pl
import os

pil_im = Image.open('../data/empire.jpg').convert('L')
                    
pl.figure()
pl.imshow(pil_im)
pl.gray()
pl.axis('off')
pl.show()

help(Image.open)

filelist = os.listdir('../data')
for infile in filelist:
    outfile = os.path.splitext(infile)[0] + ".jpg"
    print(outfile)
    if infile != outfile:
        try:
            Image.open(infile).save(outfile)
        except IOError:
            print("cannot convert", infile)

box = (100,100,400,400)
region = pil_im.crop(box)
pl.figure()
pl.imshow(region)
pl.gray()
pl.axis('off')
pl.show()

print(region)

def showimage(src):
    pl.figure()
    pl.imshow(src)
    pl.axis('off')
    pl.show()

showimage(region)

region = region.transpose(Image.ROTATE_180)
showimage(region)

pil_im.paste(region,box)
showimage(pil_im)

out = pil_im.resize((128,128))
showimage(out)

out = out.rotate(45)
showimage(out)
